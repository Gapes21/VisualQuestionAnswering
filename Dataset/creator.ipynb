{
 "cells": [
  {
   "cell_type": "code",
   "execution_count": 1,
   "metadata": {},
   "outputs": [],
   "source": [
    "import pandas as pd\n",
    "import json\n",
    "import os\n",
    "import cv2 as cv\n",
    "from tqdm import tqdm\n",
    "import numpy as np\n",
    "from sklearn.cluster import KMeans\n",
    "from sklearn.preprocessing import LabelEncoder\n",
    "import pickle\n",
    "import glob\n",
    "import shutil"
   ]
  },
  {
   "cell_type": "code",
   "execution_count": 2,
   "metadata": {},
   "outputs": [],
   "source": [
    "questions = pd.DataFrame(json.load(open(\"./v2_OpenEnded_mscoco_train2014_questions.json\", \"r\"))[\"questions\"])\n",
    "annotations = pd.DataFrame(json.load(open(\"./v2_mscoco_train2014_annotations.json\", \"r\"))[\"annotations\"])\n",
    "compairs = json.load(open(\"./v2_mscoco_train2014_complementary_pairs.json\"))"
   ]
  },
  {
   "cell_type": "code",
   "execution_count": 12,
   "metadata": {},
   "outputs": [
    {
     "data": {
      "text/html": [
       "<div>\n",
       "<style scoped>\n",
       "    .dataframe tbody tr th:only-of-type {\n",
       "        vertical-align: middle;\n",
       "    }\n",
       "\n",
       "    .dataframe tbody tr th {\n",
       "        vertical-align: top;\n",
       "    }\n",
       "\n",
       "    .dataframe thead th {\n",
       "        text-align: right;\n",
       "    }\n",
       "</style>\n",
       "<table border=\"1\" class=\"dataframe\">\n",
       "  <thead>\n",
       "    <tr style=\"text-align: right;\">\n",
       "      <th></th>\n",
       "      <th>image_id</th>\n",
       "      <th>question</th>\n",
       "      <th>question_id</th>\n",
       "    </tr>\n",
       "  </thead>\n",
       "  <tbody>\n",
       "    <tr>\n",
       "      <th>0</th>\n",
       "      <td>458752</td>\n",
       "      <td>What is this photo taken looking through?</td>\n",
       "      <td>458752000</td>\n",
       "    </tr>\n",
       "    <tr>\n",
       "      <th>1</th>\n",
       "      <td>458752</td>\n",
       "      <td>What position is this man playing?</td>\n",
       "      <td>458752001</td>\n",
       "    </tr>\n",
       "    <tr>\n",
       "      <th>2</th>\n",
       "      <td>458752</td>\n",
       "      <td>What color is the players shirt?</td>\n",
       "      <td>458752002</td>\n",
       "    </tr>\n",
       "    <tr>\n",
       "      <th>3</th>\n",
       "      <td>458752</td>\n",
       "      <td>Is this man a professional baseball player?</td>\n",
       "      <td>458752003</td>\n",
       "    </tr>\n",
       "    <tr>\n",
       "      <th>4</th>\n",
       "      <td>262146</td>\n",
       "      <td>What color is the snow?</td>\n",
       "      <td>262146000</td>\n",
       "    </tr>\n",
       "  </tbody>\n",
       "</table>\n",
       "</div>"
      ],
      "text/plain": [
       "   image_id                                     question  question_id\n",
       "0    458752    What is this photo taken looking through?    458752000\n",
       "1    458752           What position is this man playing?    458752001\n",
       "2    458752             What color is the players shirt?    458752002\n",
       "3    458752  Is this man a professional baseball player?    458752003\n",
       "4    262146                      What color is the snow?    262146000"
      ]
     },
     "execution_count": 12,
     "metadata": {},
     "output_type": "execute_result"
    }
   ],
   "source": [
    "questions.head()"
   ]
  },
  {
   "cell_type": "code",
   "execution_count": 15,
   "metadata": {},
   "outputs": [
    {
     "data": {
      "text/html": [
       "<div>\n",
       "<style scoped>\n",
       "    .dataframe tbody tr th:only-of-type {\n",
       "        vertical-align: middle;\n",
       "    }\n",
       "\n",
       "    .dataframe tbody tr th {\n",
       "        vertical-align: top;\n",
       "    }\n",
       "\n",
       "    .dataframe thead th {\n",
       "        text-align: right;\n",
       "    }\n",
       "</style>\n",
       "<table border=\"1\" class=\"dataframe\">\n",
       "  <thead>\n",
       "    <tr style=\"text-align: right;\">\n",
       "      <th></th>\n",
       "      <th>question_type</th>\n",
       "      <th>multiple_choice_answer</th>\n",
       "      <th>answers</th>\n",
       "      <th>image_id</th>\n",
       "      <th>answer_type</th>\n",
       "      <th>question_id</th>\n",
       "    </tr>\n",
       "  </thead>\n",
       "  <tbody>\n",
       "    <tr>\n",
       "      <th>0</th>\n",
       "      <td>what is this</td>\n",
       "      <td>net</td>\n",
       "      <td>[{'answer': 'net', 'answer_confidence': 'maybe...</td>\n",
       "      <td>458752</td>\n",
       "      <td>other</td>\n",
       "      <td>458752000</td>\n",
       "    </tr>\n",
       "    <tr>\n",
       "      <th>1</th>\n",
       "      <td>what</td>\n",
       "      <td>pitcher</td>\n",
       "      <td>[{'answer': 'pitcher', 'answer_confidence': 'y...</td>\n",
       "      <td>458752</td>\n",
       "      <td>other</td>\n",
       "      <td>458752001</td>\n",
       "    </tr>\n",
       "    <tr>\n",
       "      <th>2</th>\n",
       "      <td>what color is the</td>\n",
       "      <td>orange</td>\n",
       "      <td>[{'answer': 'orange', 'answer_confidence': 'ye...</td>\n",
       "      <td>458752</td>\n",
       "      <td>other</td>\n",
       "      <td>458752002</td>\n",
       "    </tr>\n",
       "    <tr>\n",
       "      <th>3</th>\n",
       "      <td>is this</td>\n",
       "      <td>yes</td>\n",
       "      <td>[{'answer': 'yes', 'answer_confidence': 'yes',...</td>\n",
       "      <td>458752</td>\n",
       "      <td>yes/no</td>\n",
       "      <td>458752003</td>\n",
       "    </tr>\n",
       "    <tr>\n",
       "      <th>4</th>\n",
       "      <td>what color is the</td>\n",
       "      <td>white</td>\n",
       "      <td>[{'answer': 'white', 'answer_confidence': 'yes...</td>\n",
       "      <td>262146</td>\n",
       "      <td>other</td>\n",
       "      <td>262146000</td>\n",
       "    </tr>\n",
       "  </tbody>\n",
       "</table>\n",
       "</div>"
      ],
      "text/plain": [
       "       question_type multiple_choice_answer  \\\n",
       "0       what is this                    net   \n",
       "1               what                pitcher   \n",
       "2  what color is the                 orange   \n",
       "3            is this                    yes   \n",
       "4  what color is the                  white   \n",
       "\n",
       "                                             answers  image_id answer_type  \\\n",
       "0  [{'answer': 'net', 'answer_confidence': 'maybe...    458752       other   \n",
       "1  [{'answer': 'pitcher', 'answer_confidence': 'y...    458752       other   \n",
       "2  [{'answer': 'orange', 'answer_confidence': 'ye...    458752       other   \n",
       "3  [{'answer': 'yes', 'answer_confidence': 'yes',...    458752      yes/no   \n",
       "4  [{'answer': 'white', 'answer_confidence': 'yes...    262146       other   \n",
       "\n",
       "   question_id  \n",
       "0    458752000  \n",
       "1    458752001  \n",
       "2    458752002  \n",
       "3    458752003  \n",
       "4    262146000  "
      ]
     },
     "execution_count": 15,
     "metadata": {},
     "output_type": "execute_result"
    }
   ],
   "source": [
    "annotations.head()"
   ]
  },
  {
   "cell_type": "code",
   "execution_count": 3,
   "metadata": {},
   "outputs": [],
   "source": [
    "def extractImageFeatures(imgpath, count = -1, NUM_CLUSTERS = 10):\n",
    "    if os.path.exists(\"imgFeatures.pkl\"):\n",
    "        return pickle.load(open(\"imgFeatures.pkl\", \"rb\"))\n",
    "    \n",
    "    imgfiles = os.listdir(imgpath)[1:]\n",
    "    if count < 0:\n",
    "        count = len(imgfiles)\n",
    "    orb = cv.ORB_create()\n",
    "    descriptors = []\n",
    "    for i in tqdm(range(count)):\n",
    "        img = cv.imread(imgpath + imgfiles[i])\n",
    "        gray = cv.cvtColor(img, cv.COLOR_BGR2GRAY)\n",
    "        k, d = orb.detectAndCompute(gray, None)\n",
    "        descriptors.append(d)\n",
    "        \n",
    "    features = np.vstack(descriptors)\n",
    "    print(f\"Doing kmeans on {features.shape} points...\")\n",
    "    kmeansDescriptors = KMeans(n_clusters = NUM_CLUSTERS, random_state = 42).fit(features)\n",
    "    print(f\"Kmeans done\")\n",
    "    \n",
    "    sm = 0\n",
    "    def computeHistogram(idx):\n",
    "        nonlocal sm\n",
    "        histogram = [0]*NUM_CLUSTERS\n",
    "        for d in descriptors[idx]:\n",
    "            label = kmeansDescriptors.labels_[sm]\n",
    "            sm += 1\n",
    "            histogram[label] += 1\n",
    "        norm = np.linalg.norm(histogram)\n",
    "        if norm == 0:\n",
    "            return histogram\n",
    "        return histogram / norm\n",
    "    \n",
    "    imgFeatures = []\n",
    "    for i in tqdm(range(count)):\n",
    "        imgFeatures.append(computeHistogram(i))\n",
    "        \n",
    "    pickle.dump(imgFeatures, open(\"imgFeatures.pkl\", \"wb\"))\n",
    "    return imgFeatures"
   ]
  },
  {
   "cell_type": "code",
   "execution_count": 10,
   "metadata": {},
   "outputs": [],
   "source": [
    "def IdtoFile(imageId):\n",
    "    imageId = str(imageId)\n",
    "    return f\"COCO_train2014_000000{imageId}.jpg\"\n",
    "\n",
    "def FiletoId(filename):\n",
    "    return filename.split(\"/\")[-1][-10:-4]\n",
    "\n",
    "def responseWeight(confidence):\n",
    "    if confidence == \"yes\":\n",
    "        return 10\n",
    "    elif confidence == \"maybe\" :\n",
    "        return 7\n",
    "    return 4"
   ]
  },
  {
   "cell_type": "code",
   "execution_count": 11,
   "metadata": {},
   "outputs": [],
   "source": [
    "def createRandomSample(p : float = 0.01):\n",
    "    sample = set()\n",
    "    imgfiles = os.listdir('./../RawImages/images/')[1:]\n",
    "    for img in imgfiles:\n",
    "        if np.random.choice([0, 1], p = [1 - p, p]):\n",
    "            sample.add(FiletoId(img))\n",
    "    return sample"
   ]
  },
  {
   "cell_type": "code",
   "execution_count": 21,
   "metadata": {},
   "outputs": [],
   "source": [
    "sample = createRandomSample(0.26)"
   ]
  },
  {
   "cell_type": "code",
   "execution_count": 22,
   "metadata": {},
   "outputs": [],
   "source": [
    "pickle.dump(sample, open(\"training_sample.pkl\", \"wb\"))"
   ]
  },
  {
   "cell_type": "code",
   "execution_count": 23,
   "metadata": {},
   "outputs": [
    {
     "data": {
      "text/plain": [
       "21549"
      ]
     },
     "execution_count": 23,
     "metadata": {},
     "output_type": "execute_result"
    }
   ],
   "source": [
    "len(sample)"
   ]
  },
  {
   "cell_type": "code",
   "execution_count": 30,
   "metadata": {},
   "outputs": [],
   "source": [
    "def createDataset(datapath, imageset):\n",
    "    files = glob.glob(datapath + \"*\")\n",
    "    for f in files :\n",
    "        os.remove(f)\n",
    "    print(f\"Erased contents of the {datapath} directory.\")\n",
    "    \n",
    "    print(f\"Building the data dict...\")\n",
    "    dict = {}\n",
    "    answer_confidences = set()\n",
    "    labels = []\n",
    "    df = pd.merge(questions, annotations, on = \"question_id\")\n",
    "    for i, row in tqdm(df.iterrows()):\n",
    "        if i > 100:\n",
    "            break\n",
    "        imageId = str(row[\"image_id_x\"])\n",
    "        if imageId not in imageset:\n",
    "            continue\n",
    "        questionText = row[\"question\"]\n",
    "        answer = row[\"multiple_choice_answer\"]\n",
    "        for response in row[\"answers\"]:\n",
    "            labels.append(response[\"answer\"])\n",
    "        \n",
    "        if imageId in dict:\n",
    "            dict[imageId].append({\n",
    "                \"question\" : questionText,\n",
    "                \"answer\" : answer,\n",
    "                \"responses\" : row[\"answers\"]\n",
    "            })\n",
    "        else : \n",
    "            dict[imageId] = [{\n",
    "                \"question\" : questionText,\n",
    "                \"answer\" : answer,\n",
    "                \"responses\" : row[\"answers\"]\n",
    "            }]\n",
    "    labelEncoder = LabelEncoder()\n",
    "    labelEncoder.fit(labels)\n",
    "    C = len(labelEncoder.classes_)\n",
    "    labelmap = {}\n",
    "    for i in range(C):\n",
    "        labelmap[labelEncoder.classes_[i]] = i\n",
    "    print(f\"Label Encoder contains {C} classes.\")\n",
    "    \n",
    "    print(f\"Building the metadata object and moving files...\")\n",
    "    metadata = []\n",
    "        \n",
    "    for imageId in tqdm(dict.keys()): \n",
    "        fileName = IdtoFile(imageId)\n",
    "        qna = []\n",
    "        for q in dict[imageId]:\n",
    "            questionText = q[\"question\"]\n",
    "            answer = q[\"answer\"]\n",
    "            answerlabel = labelmap[answer]\n",
    "            # softvec = {}\n",
    "            # for response in q[\"responses\"]:\n",
    "            #     label = labelmap[response[\"answer\"]]\n",
    "            #     if label in softvec:\n",
    "            #         softvec[label] += responseWeight(response[\"answer_confidence\"])\n",
    "            #     else:\n",
    "            #         softvec[label] = responseWeight(response[\"answer_confidence\"])\n",
    "            qna.append({\n",
    "                \"question\" : questionText,\n",
    "                \"answer\" : answer,\n",
    "                \"answerlabel\" : answerlabel,\n",
    "                # \"softvec\" : softvec\n",
    "            })\n",
    "        shutil.copyfile(f\"../RawImages/images/{fileName}\", f\"./train/{fileName}\")\n",
    "        metadata.append({\n",
    "            \"file_name\" : fileName,\n",
    "            \"qna\" : qna \n",
    "        })\n",
    "        with open(\"./train/metadata.jsonl\", \"w\") as f:\n",
    "            for item in metadata:\n",
    "                json.dump(item, f)\n",
    "                f.write('\\n')\n",
    "    \n",
    "        with open(\"labelEncoder.pkl\", \"wb\") as f:\n",
    "            pickle.dump(labelEncoder, f)\n",
    "            \n",
    "    return labelEncoder, metadata"
   ]
  },
  {
   "cell_type": "code",
   "execution_count": 31,
   "metadata": {},
   "outputs": [
    {
     "name": "stdout",
     "output_type": "stream",
     "text": [
      "Erased contents of the .\\train\\ directory.\n",
      "Building the data dict...\n"
     ]
    },
    {
     "name": "stderr",
     "output_type": "stream",
     "text": [
      "101it [00:00, 288.12it/s]\n"
     ]
    },
    {
     "name": "stdout",
     "output_type": "stream",
     "text": [
      "Label Encoder contains 36 classes.\n",
      "Building the metadata object and moving files...\n"
     ]
    },
    {
     "name": "stderr",
     "output_type": "stream",
     "text": [
      "100%|██████████| 4/4 [00:00<00:00, 120.53it/s]\n"
     ]
    }
   ],
   "source": [
    "labelEncoder, metadata = createDataset(\n",
    "    \".\\\\train\\\\\",\n",
    "    sample\n",
    ")"
   ]
  },
  {
   "cell_type": "code",
   "execution_count": null,
   "metadata": {},
   "outputs": [],
   "source": []
  }
 ],
 "metadata": {
  "kernelspec": {
   "display_name": "vision",
   "language": "python",
   "name": "python3"
  },
  "language_info": {
   "codemirror_mode": {
    "name": "ipython",
    "version": 3
   },
   "file_extension": ".py",
   "mimetype": "text/x-python",
   "name": "python",
   "nbconvert_exporter": "python",
   "pygments_lexer": "ipython3",
   "version": "3.9.0"
  }
 },
 "nbformat": 4,
 "nbformat_minor": 2
}
